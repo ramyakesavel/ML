{
 "cells": [
  {
   "cell_type": "code",
   "execution_count": null,
   "metadata": {},
   "outputs": [],
   "source": [
    "# Q1. How can we create an iterator object from a list?\n",
    "a) Bypassing the given list to the iter() function\n"
   ]
  },
  {
   "cell_type": "code",
   "execution_count": null,
   "metadata": {},
   "outputs": [],
   "source": [
    "# Q2. If the function contains at least of one “yield” statement, then it becomes\n",
    "b) a generator function\n"
   ]
  },
  {
   "cell_type": "code",
   "execution_count": null,
   "metadata": {},
   "outputs": [],
   "source": [
    "# Q3. What is the output of the code?\n",
    "mylist =[1,3,6,10]\n",
    "a = (x**2 for x in mylist)\n",
    "print(next(a), next(a))\n",
    "\n",
    "Ans : c) 1 9 36 100"
   ]
  },
  {
   "cell_type": "code",
   "execution_count": null,
   "metadata": {},
   "outputs": [],
   "source": [
    "# Q4. What are the criteria that must be met to create closure in Python?\n",
    "b) The nested function must refer to the value defined in the enclosing function."
   ]
  },
  {
   "cell_type": "code",
   "execution_count": 5,
   "metadata": {},
   "outputs": [
    {
     "name": "stdout",
     "output_type": "stream",
     "text": [
      "50\n"
     ]
    }
   ],
   "source": [
    "#Q5. What is the output of the code?\n",
    "def Foo(n):\n",
    "    def multiplier(x):\n",
    "        return x * n\n",
    "    return multiplier\n",
    "a = Foo(5)\n",
    "b = Foo(5)\n",
    "print(a(b(2)))\n",
    "\n",
    "d). 50"
   ]
  },
  {
   "cell_type": "code",
   "execution_count": 11,
   "metadata": {},
   "outputs": [
    {
     "name": "stdout",
     "output_type": "stream",
     "text": [
      "I got decorated\n",
      "I am ordinary\n"
     ]
    }
   ],
   "source": [
    "#Q6. What is the output of the code?\n",
    "def make_pretty(func):\n",
    "    def inner():\n",
    "        print(\"I got decorated\")\n",
    "        func()\n",
    "    return inner\n",
    "def ordinary():\n",
    "    print(\"I am ordinary\")\n",
    "pretty = make_pretty(ordinary)\n",
    "pretty()\n",
    "\n",
    "c).I got decorated\n",
    "   I am ordinary\n"
   ]
  },
  {
   "cell_type": "code",
   "execution_count": 14,
   "metadata": {},
   "outputs": [],
   "source": [
    "#Q7: What is the more pythonic way to use getters and setters?\n",
    "d. @property"
   ]
  },
  {
   "cell_type": "code",
   "execution_count": 16,
   "metadata": {},
   "outputs": [],
   "source": [
    "# Q8. In Python, there is a built-in function property() that returns a property object. \n",
    "#The property object has which of the methods?\n",
    "a. getter() and setter()"
   ]
  },
  {
   "cell_type": "code",
   "execution_count": null,
   "metadata": {},
   "outputs": [],
   "source": [
    "#Q9. Which of the following statement is true?\n",
    "d. None of the above"
   ]
  },
  {
   "cell_type": "code",
   "execution_count": 18,
   "metadata": {},
   "outputs": [],
   "source": [
    "#Q10. For the following codes, which of the following statements is true?\n",
    "def printHello():\n",
    "    print(\"Hello\")\n",
    "printHello()\n",
    "\n",
    "a.) Print Hello() is a function, and a is a variable. None of them are objects."
   ]
  },
  {
   "cell_type": "code",
   "execution_count": 23,
   "metadata": {},
   "outputs": [
    {
     "name": "stdout",
     "output_type": "stream",
     "text": [
      "a = 20\n"
     ]
    }
   ],
   "source": [
    "#Q11. What is the output of the program?\n",
    "def outerFunction():\n",
    "    global a\n",
    "    a = 20\n",
    "    def innerFunction():\n",
    "        global a\n",
    "        a = 30\n",
    "        print('a =', a)\n",
    "a = 10\n",
    "outerFunction()\n",
    "print('a =', a)\n"
   ]
  },
  {
   "cell_type": "code",
   "execution_count": null,
   "metadata": {},
   "outputs": [],
   "source": [
    "#Q12. Which of the following statements is true?\n",
    "c. Both statements are true"
   ]
  },
  {
   "cell_type": "code",
   "execution_count": 24,
   "metadata": {},
   "outputs": [
    {
     "name": "stdout",
     "output_type": "stream",
     "text": [
      "Java\n"
     ]
    }
   ],
   "source": [
    "#Q13. What is the output of the code?\n",
    "class Foo:\n",
    "    def printLine(self, line='Python'):\n",
    "        print(line)\n",
    "o1 = Foo()\n",
    "o1.printLine('Java')\n",
    "\n",
    "\n",
    "c). Java"
   ]
  },
  {
   "cell_type": "code",
   "execution_count": null,
   "metadata": {},
   "outputs": [],
   "source": [
    "#Q14 What is the function of the __init__() function in Python?\n",
    "d. None of the above."
   ]
  },
  {
   "cell_type": "code",
   "execution_count": 25,
   "metadata": {},
   "outputs": [
    {
     "name": "stdout",
     "output_type": "stream",
     "text": [
      "1 1\n"
     ]
    }
   ],
   "source": [
    "# Q15. What is the output of the code?\n",
    "class Point:\n",
    "    def __init__(self, x = 0, y = 0):\n",
    "        self.x = x+1\n",
    "        self.y = y+1\n",
    "p1 = Point()\n",
    "print(p1.x, p1.y)\n",
    "\n",
    "b). 1 1"
   ]
  },
  {
   "cell_type": "code",
   "execution_count": null,
   "metadata": {},
   "outputs": [],
   "source": [
    "# Q16. Which of the following code used the inheritance feature?\n",
    "C). \n",
    "class Foo:\n",
    "    pass\n",
    "class Hoo(Foo):\n",
    "    pass\n"
   ]
  },
  {
   "cell_type": "code",
   "execution_count": null,
   "metadata": {},
   "outputs": [],
   "source": [
    "#Q17 If you a class is derived from two different classes, it’s called\n",
    "b. Multiple Inheritance"
   ]
  },
  {
   "cell_type": "code",
   "execution_count": null,
   "metadata": {},
   "outputs": [],
   "source": [
    "# Q18. Which of the following statements is true?\n",
    "d. All of the above."
   ]
  },
  {
   "cell_type": "code",
   "execution_count": 28,
   "metadata": {},
   "outputs": [
    {
     "name": "stdout",
     "output_type": "stream",
     "text": [
      "4 6\n"
     ]
    }
   ],
   "source": [
    "#Q19. What is the output of the code?\n",
    "class Point:\n",
    "    def __init__(self, x = 0, y = 0):\n",
    "        self.x = x\n",
    "        self.y = y\n",
    "    def __sub__(self, other):\n",
    "        x = self.x + other.x\n",
    "        y = self.y + other.y\n",
    "        return Point(x,y)\n",
    "p1 = Point(3, 4)\n",
    "p2 = Point(1, 2)\n",
    "result = p1-p2\n",
    "print(result.x, result.y)\n",
    "\n",
    "b). 4 6"
   ]
  },
  {
   "cell_type": "code",
   "execution_count": null,
   "metadata": {},
   "outputs": [],
   "source": [
    "#Q20. Opening a file in ‘a’ mode\n",
    "c. opens the file for appending, at the end of file"
   ]
  },
  {
   "cell_type": "code",
   "execution_count": 35,
   "metadata": {},
   "outputs": [],
   "source": [
    "# Q21. What does the following code do?\n",
    "f = open(\"test.txt\")\n",
    "b). Opens test.txt file for reading only"
   ]
  },
  {
   "cell_type": "code",
   "execution_count": null,
   "metadata": {},
   "outputs": [],
   "source": [
    "# Q22. Which of the codes closes files automatically if an exception occurs?\n",
    "c. None of the above"
   ]
  },
  {
   "cell_type": "code",
   "execution_count": 36,
   "metadata": {},
   "outputs": [
    {
     "data": {
      "text/plain": [
       "''"
      ]
     },
     "execution_count": 36,
     "metadata": {},
     "output_type": "execute_result"
    }
   ],
   "source": [
    "# Q23. For the following code\n",
    "f = open('test.txt', 'r', encoding = 'utf-8')\n",
    "f.read()\n",
    "d.) All the above"
   ]
  },
  {
   "cell_type": "code",
   "execution_count": null,
   "metadata": {},
   "outputs": [],
   "source": [
    "# Q24. What does the following code do?\n",
    "os.listdir()\n",
    "c. Prints all the directories and files inside the given directory"
   ]
  },
  {
   "cell_type": "code",
   "execution_count": null,
   "metadata": {},
   "outputs": [],
   "source": [
    "#Q25. Which of the following is correct?\n",
    "d. All of the above."
   ]
  },
  {
   "cell_type": "code",
   "execution_count": null,
   "metadata": {},
   "outputs": [],
   "source": [
    "# Q26. What will happen if we try to open the file that doesn’t exist?\n",
    "c. An exception is raised."
   ]
  },
  {
   "cell_type": "code",
   "execution_count": 37,
   "metadata": {},
   "outputs": [
    {
     "name": "stdout",
     "output_type": "stream",
     "text": [
      "2.0\n"
     ]
    }
   ],
   "source": [
    "# Q27. What is the output of the code?\n",
    "number = 5.0\n",
    "try:\n",
    "    r = 10/number\n",
    "    print(r)\n",
    "except:\n",
    "    print(\"Oops! Error occurred.\")\n",
    "    \n",
    "b). 2.0"
   ]
  },
  {
   "cell_type": "code",
   "execution_count": 41,
   "metadata": {},
   "outputs": [],
   "source": [
    "#Q28. What does the following code do?\n",
    "try:\n",
    "    # code that can raise an error\n",
    "    pass\n",
    "except (TypeError, ZeroDivisionError):\n",
    "    print(\"Two\")\n",
    "\n",
    "C. Prints Two if the TypeError or ZeroDivisionError exception occurs"
   ]
  },
  {
   "cell_type": "code",
   "execution_count": null,
   "metadata": {},
   "outputs": [],
   "source": [
    "#Q29. Which of the following statement is true?\n",
    "c.You can create a user-defined exception by deriving a class from Error class"
   ]
  },
  {
   "cell_type": "code",
   "execution_count": null,
   "metadata": {},
   "outputs": [],
   "source": [
    "# Q30. Which of the following statement is true?\n",
    "c. The function is a piece of code that can perform a specific task"
   ]
  },
  {
   "cell_type": "code",
   "execution_count": 48,
   "metadata": {},
   "outputs": [
    {
     "name": "stdout",
     "output_type": "stream",
     "text": [
      "Python is awesome.\n"
     ]
    }
   ],
   "source": [
    "#Q31. What is the output of the code?\n",
    "def printLine(text):\n",
    "    print(text, 'is awesome.')\n",
    "printLine('Python')\n",
    "\n",
    "b). Python is awesome."
   ]
  },
  {
   "cell_type": "code",
   "execution_count": 56,
   "metadata": {},
   "outputs": [],
   "source": [
    "#Q32. If the return statement is not used inside the function, the function will return:\n",
    "b. None"
   ]
  },
  {
   "cell_type": "code",
   "execution_count": 57,
   "metadata": {},
   "outputs": [
    {
     "name": "stdout",
     "output_type": "stream",
     "text": [
      "Hello ('Frodo', 'Sauron')\n"
     ]
    }
   ],
   "source": [
    "# Q33. What is the output of the code?\n",
    "def greetPerson(*name):\n",
    "    print('Hello', name)\n",
    "greetPerson('Frodo', 'Sauron')\n",
    "\n",
    "b). Hello ('Frodo', 'Sauron')"
   ]
  },
  {
   "cell_type": "code",
   "execution_count": null,
   "metadata": {},
   "outputs": [],
   "source": [
    "#Q34. What is a recursive function?\n",
    "b. A function that calls itself."
   ]
  },
  {
   "cell_type": "code",
   "execution_count": 58,
   "metadata": {},
   "outputs": [
    {
     "name": "stdout",
     "output_type": "stream",
     "text": [
      "25\n"
     ]
    }
   ],
   "source": [
    "#Q35. What is the output of the program?\n",
    "result = lambda x: x * x\n",
    "print(result(5))\n",
    "\n",
    "c). 25"
   ]
  },
  {
   "cell_type": "code",
   "execution_count": 69,
   "metadata": {},
   "outputs": [
    {
     "name": "stdout",
     "output_type": "stream",
     "text": [
      "10\n"
     ]
    }
   ],
   "source": [
    "#Q36. What is the output of the program?\n",
    "def Foo(x):\n",
    "        if (x==1):\n",
    "            return 1\n",
    "        else:\n",
    "            return x+Foo(x-1)\n",
    "print(Foo(4))\n",
    "\n",
    "a). 10"
   ]
  },
  {
   "cell_type": "code",
   "execution_count": 73,
   "metadata": {},
   "outputs": [
    {
     "name": "stdout",
     "output_type": "stream",
     "text": [
      "3.141592653589793\n"
     ]
    }
   ],
   "source": [
    "#Q37. Suppose you need to print pi constant defined in the math module.\n",
    "#Which of the following code can do this task?\n",
    "c.\n",
    "from math import pi\n",
    "print(pi)"
   ]
  },
  {
   "cell_type": "code",
   "execution_count": null,
   "metadata": {},
   "outputs": [],
   "source": [
    "#Q38. Which operator is used in Python to import modules from the packages?\n",
    "a). operator"
   ]
  },
  {
   "cell_type": "code",
   "execution_count": 74,
   "metadata": {},
   "outputs": [
    {
     "name": "stdout",
     "output_type": "stream",
     "text": [
      "(1, 3, 6)\n"
     ]
    }
   ],
   "source": [
    "#Q39. What is the output of the code?\n",
    "numbers = [1, 3, 6]\n",
    "newNumbers = tuple(map(lambda x: x , numbers))\n",
    "print(newNumbers)\n",
    "\n",
    "b. (1,3,6)"
   ]
  },
  {
   "cell_type": "code",
   "execution_count": 76,
   "metadata": {},
   "outputs": [],
   "source": [
    "# Q40. What is the output of the code?\n",
    "if None:\n",
    "    print('Hello')\n",
    "    \n",
    "c. Nothing will be printed"
   ]
  },
  {
   "cell_type": "code",
   "execution_count": null,
   "metadata": {},
   "outputs": [],
   "source": [
    "#Q41. The if-elif-else executes only one block of code among several blocks\n",
    "c. It depends on the expression used."
   ]
  },
  {
   "cell_type": "code",
   "execution_count": 77,
   "metadata": {},
   "outputs": [
    {
     "name": "stdout",
     "output_type": "stream",
     "text": [
      "2\n",
      "1\n"
     ]
    }
   ],
   "source": [
    "# Q42. What is the output of the code?\n",
    "for i in [1, 0]:\n",
    "    print(i+1)\n",
    "    \n",
    "    a).2\n",
    "       1"
   ]
  },
  {
   "cell_type": "code",
   "execution_count": null,
   "metadata": {},
   "outputs": [],
   "source": [
    "#Q43. In the Python, for and while loop can have the optional else statement?\n",
    "a) Only for loop can have the optional else statement"
   ]
  },
  {
   "cell_type": "code",
   "execution_count": 78,
   "metadata": {},
   "outputs": [
    {
     "name": "stdout",
     "output_type": "stream",
     "text": [
      "10\n"
     ]
    }
   ],
   "source": [
    "#Q44. What is the output of the code?\n",
    "i = sum = 0\n",
    "while i <= 4:\n",
    "    sum += i\n",
    "    i = i+1\n",
    "print(sum)\n",
    "\n",
    "b)10"
   ]
  },
  {
   "cell_type": "code",
   "execution_count": null,
   "metadata": {},
   "outputs": [],
   "source": [
    "# Q45. What is the output of the code?\n",
    "while 4 == 4:\n",
    "    print('4')\n",
    "    \n",
    "c. 4 is printed infinitely until the program closes"
   ]
  },
  {
   "cell_type": "code",
   "execution_count": null,
   "metadata": {},
   "outputs": [],
   "source": [
    "# Q46. Is it better to use the for loop instead of while if we are iterating through a sequence?\n",
    "c. No, we cannot iterate through a sequence using a while loop"
   ]
  },
  {
   "cell_type": "code",
   "execution_count": null,
   "metadata": {},
   "outputs": [],
   "source": [
    "#Q47. Which of the following statement is true?\n",
    "d) All of the above."
   ]
  },
  {
   "cell_type": "code",
   "execution_count": 82,
   "metadata": {},
   "outputs": [
    {
     "name": "stdout",
     "output_type": "stream",
     "text": [
      "PYTHON"
     ]
    }
   ],
   "source": [
    "#Q48. What is the output of the code?\n",
    "for char in 'PYTHON STRING':\n",
    "    if char == ' ':\n",
    "        break\n",
    "    print(char, end='')\n",
    "    if char == 'O':\n",
    "        continue\n",
    "        \n",
    "a) PYTHON"
   ]
  },
  {
   "cell_type": "code",
   "execution_count": null,
   "metadata": {},
   "outputs": [],
   "source": [
    "#Q49. Which of the statement is true about the “pass” statement?\n",
    "c. It is used as the placeholder for future implementation of functions, loops, etc"
   ]
  },
  {
   "cell_type": "code",
   "execution_count": null,
   "metadata": {},
   "outputs": [],
   "source": [
    "# Q50. In regards to separated value files such as .csv and .tsv, what is the delimiter?\n",
    "c. Any character such as the comma (,) or tab (\\t) that is used to separate the column data."
   ]
  },
  {
   "cell_type": "code",
   "execution_count": null,
   "metadata": {},
   "outputs": [],
   "source": [
    "#Q51. In separated value files such as .csv and .tsv, what does the first row in the file typically contain?\n",
    "a). The column names of the data."
   ]
  },
  {
   "cell_type": "code",
   "execution_count": null,
   "metadata": {},
   "outputs": [],
   "source": [
    "# Q52. Assume you have a file object my_data, which has properly opened a separated value file that uses \n",
    "# the tab character (\\t) as the delimiter.What is the proper way to open the file using the Python CSV module\n",
    "# and assign it to the variable csv_reader?\n",
    "b. csv.reader(my_data, delimiter='\\t')"
   ]
  },
  {
   "cell_type": "code",
   "execution_count": null,
   "metadata": {},
   "outputs": [],
   "source": [
    "#Q53. When iterating over an object returned from csv.reader(), what is returned with each iteration?\n",
    "b. The row data as a list"
   ]
  },
  {
   "cell_type": "code",
   "execution_count": null,
   "metadata": {},
   "outputs": [],
   "source": [
    "#Q54. When writing to a CSV file using the .writerow() method of he csv.DictWriter object,\n",
    "#what must each key in the input dict represent? Below is an example:\n",
    "a. Each key indicates the row index as an integer for where the data should go"
   ]
  },
  {
   "cell_type": "code",
   "execution_count": null,
   "metadata": {},
   "outputs": [],
   "source": [
    "#Q55. Which is the correct way to open the CSV file hrdata.csv for reading using the pandas package? \n",
    "# Assume that the pandas package has already been imported\n",
    "c. pandas.read_csv('hrdata.csv')"
   ]
  },
  {
   "cell_type": "code",
   "execution_count": null,
   "metadata": {},
   "outputs": [],
   "source": [
    "#Q56. By default, pandas uses 0-based indices for indexing rows. Which is the correct \n",
    "# way to import the CSV file hrdata.csv or reading and using the 'Name' column as the index row instead?\n",
    "a. pandas.read_csv('hrdata.csv', index_col='Name')"
   ]
  },
  {
   "cell_type": "code",
   "execution_count": null,
   "metadata": {},
   "outputs": [],
   "source": [
    "#Q57.Given the file dog_breeds.txt, which of the following is the correct way to open the file for reading as a text file? Select all that apply.\n",
    "b.open('dog_breeds.txt', 'r')"
   ]
  },
  {
   "cell_type": "code",
   "execution_count": null,
   "metadata": {},
   "outputs": [],
   "source": [
    "#Q58. Given the following directory structure:\n",
    "/root/animals/feline"
   ]
  },
  {
   "cell_type": "code",
   "execution_count": null,
   "metadata": {},
   "outputs": [],
   "source": [
    "#Q59. Given the file jack_russell.png, which of the following is the correct way to open the file for reading \n",
    "# as a buffered binary file? Select all that apply.\n",
    "open('jack_russell.png')\n"
   ]
  },
  {
   "cell_type": "code",
   "execution_count": null,
   "metadata": {},
   "outputs": [],
   "source": [
    "#Q60.Using the same directory structure as before:\n",
    "/root/animals/ursine/bears.gif"
   ]
  },
  {
   "cell_type": "code",
   "execution_count": null,
   "metadata": {},
   "outputs": [],
   "source": [
    "#Q61 Whenever possible, what is the recommended way to ensure that Whenever possible, what is the recommended way to ensure that\n",
    "a. Making sure that you use the .close() method before the end of the script"
   ]
  },
  {
   "cell_type": "code",
   "execution_count": null,
   "metadata": {},
   "outputs": [],
   "source": [
    "#Q62 Using the same directory structure as before:\n",
    "cd ..\n",
    "cd ursine/"
   ]
  },
  {
   "cell_type": "code",
   "execution_count": null,
   "metadata": {},
   "outputs": [],
   "source": [
    "#Q63 When reading a file using the file object, what method is best for reading the entire file into a single string?\n",
    "c. .readlines()"
   ]
  },
  {
   "cell_type": "code",
   "execution_count": null,
   "metadata": {},
   "outputs": [],
   "source": [
    "#Q64 The value 1.73 rounded to one decimal place using the “rounding up” strategy is\n",
    "b. 1.7"
   ]
  },
  {
   "cell_type": "code",
   "execution_count": null,
   "metadata": {},
   "outputs": [],
   "source": [
    "#Q65. The value -2.961 rounded to two decimal places using the “rounding down” strategy is...\n",
    "a. -2.96"
   ]
  },
  {
   "cell_type": "code",
   "execution_count": null,
   "metadata": {},
   "outputs": [],
   "source": [
    "#Q66 When a value is truncated to 3 decimal places, which of the following is true?\n",
    "c. Both positive and negative numbers are rounded up"
   ]
  },
  {
   "cell_type": "code",
   "execution_count": null,
   "metadata": {},
   "outputs": [],
   "source": [
    "#67 The value -0.045 rounded to 2 decimal places using the “round half away from zero” strategy is...\n",
    "a. -0.05"
   ]
  },
  {
   "cell_type": "code",
   "execution_count": null,
   "metadata": {},
   "outputs": [],
   "source": [
    "#68 Which rounding strategy does Python’s built-in round() function use?\n",
    "c. Round half up"
   ]
  },
  {
   "cell_type": "code",
   "execution_count": null,
   "metadata": {},
   "outputs": [],
   "source": [
    "#69 The value 4.65 rounded to one decimal place using the “round half to even” strategy is...\n",
    "b. 4.7"
   ]
  },
  {
   "cell_type": "code",
   "execution_count": null,
   "metadata": {},
   "outputs": [],
   "source": [
    "#70 Which problem arises due to the multiple inheritances, if hierarchical inheritance is used previously for its base classes?\n",
    "a. Diamond"
   ]
  },
  {
   "cell_type": "code",
   "execution_count": null,
   "metadata": {},
   "outputs": [],
   "source": [
    "#71How many classes should a program contain to implement the multiple inheritances?\n",
    "b. At least 1"
   ]
  },
  {
   "cell_type": "code",
   "execution_count": null,
   "metadata": {},
   "outputs": [],
   "source": [
    "#72 If class a inherits class b and class c as “class a: public class b,public class c {// class body ;}; ”,\n",
    "# which class constructor will be called first?\n",
    "b. Class b."
   ]
  },
  {
   "cell_type": "code",
   "execution_count": null,
   "metadata": {},
   "outputs": [],
   "source": [
    "#73 If all the members of all base classes are private then,\n",
    "a. There won’t be any use of multiple inheritance"
   ]
  },
  {
   "cell_type": "code",
   "execution_count": null,
   "metadata": {},
   "outputs": [],
   "source": [
    "#74 Can the derived class be made abstract if multiple inheritance is used?\n",
    "d. No, since constructors won’t be there"
   ]
  },
  {
   "cell_type": "code",
   "execution_count": null,
   "metadata": {},
   "outputs": [],
   "source": [
    "#75 Which among the following best defines the multilevel inheritance?\n",
    "b. Classes being derived from other derived classes"
   ]
  },
  {
   "cell_type": "code",
   "execution_count": null,
   "metadata": {},
   "outputs": [],
   "source": [
    "#76 If there are 5 classes, E is derived from D, D from C, C from B and B from A. Which class constructor \n",
    "# will be called first if the object of E or D is created?\n",
    "a. A"
   ]
  },
  {
   "cell_type": "code",
   "execution_count": null,
   "metadata": {},
   "outputs": [],
   "source": [
    "#77 Which Class is having the highest degree of abstraction in multilevel inheritance of 5 levels?\n",
    "a. Class at 1st level"
   ]
  },
  {
   "cell_type": "code",
   "execution_count": null,
   "metadata": {},
   "outputs": [],
   "source": [
    "#78 Multilevel inheritance allows _________________ in the program.\n",
    "d. As many levels of inheritance as required"
   ]
  },
  {
   "cell_type": "code",
   "execution_count": null,
   "metadata": {},
   "outputs": [],
   "source": [
    "#79 If all the classes used parameterized constructors and no default constructor then, ___________\n",
    "b. Object of lower-level classes must call parent class constructors explicitly"
   ]
  },
  {
   "cell_type": "code",
   "execution_count": null,
   "metadata": {},
   "outputs": [],
   "source": [
    "#80 Which is the universal exception handler class?\n",
    "d. Exceptions"
   ]
  },
  {
   "cell_type": "code",
   "execution_count": null,
   "metadata": {},
   "outputs": [],
   "source": [
    "#81 What are two exception classes in the hierarchy of java exceptions class?\n",
    "c. Runtime exceptions and other exceptions"
   ]
  },
  {
   "cell_type": "code",
   "execution_count": null,
   "metadata": {},
   "outputs": [],
   "source": [
    "#82 Which are the two blocks that are used to check error and handle the error?\n",
    "a. Try and catch"
   ]
  },
  {
   "cell_type": "code",
   "execution_count": null,
   "metadata": {},
   "outputs": [],
   "source": [
    "#83 To catch the exceptions ___________________\n",
    "a. An object must be created to catch the exception"
   ]
  },
  {
   "cell_type": "code",
   "execution_count": null,
   "metadata": {},
   "outputs": [],
   "source": [
    "#84 Which class is used to handle the input and output exceptions?\n",
    "c. IOExceptions"
   ]
  },
  {
   "cell_type": "code",
   "execution_count": null,
   "metadata": {},
   "outputs": [],
   "source": [
    "#85 Which among the following is true for the class exceptions?\n",
    "c. Either base or derived class may produce exceptions"
   ]
  },
  {
   "cell_type": "code",
   "execution_count": null,
   "metadata": {},
   "outputs": [],
   "source": [
    "#86  If both base and derived class caught the exceptions, _____.\n",
    "a. Then catch block of a derived class must be defined before the base class"
   ]
  },
  {
   "cell_type": "code",
   "execution_count": null,
   "metadata": {},
   "outputs": [],
   "source": [
    "#87 The catching of base class the exception _________ in java.\n",
    "b. Before derived class is not allowed by the compiler"
   ]
  },
  {
   "cell_type": "code",
   "execution_count": null,
   "metadata": {},
   "outputs": [],
   "source": [
    "#88 Which of the following handles the undefined class in the program?\n",
    "d. ClassNotFoundException"
   ]
  },
  {
   "cell_type": "code",
   "execution_count": null,
   "metadata": {},
   "outputs": [],
   "source": [
    "#89 Which among the following is true?\n",
    "c. Both the base and derived class catch the blocks are important"
   ]
  },
  {
   "cell_type": "code",
   "execution_count": null,
   "metadata": {},
   "outputs": [],
   "source": [
    "#90 Which condition among the following might result in memory exception?\n",
    "c. Infinite loops"
   ]
  },
  {
   "cell_type": "code",
   "execution_count": null,
   "metadata": {},
   "outputs": [],
   "source": [
    "#91 Which among the following is the correct definition for static member functions?\n",
    "b. Functions made to maintain a single copy of member functions for all the objects"
   ]
  },
  {
   "cell_type": "code",
   "execution_count": null,
   "metadata": {},
   "outputs": [],
   "source": [
    "#92 The static member functions ____\n",
    "c. Having access to only the static members of a class."
   ]
  },
  {
   "cell_type": "code",
   "execution_count": null,
   "metadata": {},
   "outputs": [],
   "source": [
    "#93 Which is the correct syntax to access the static member functions  with a class name?\n",
    "b. className -> functionName;"
   ]
  },
  {
   "cell_type": "code",
   "execution_count": null,
   "metadata": {},
   "outputs": [],
   "source": [
    "#94 The static members are\n",
    "d. Created and initialised, only once"
   ]
  },
  {
   "cell_type": "code",
   "execution_count": null,
   "metadata": {},
   "outputs": [],
   "source": [
    "#95 Which among the following is true?\n",
    "b. Static member functions can’t be overloaded."
   ]
  },
  {
   "cell_type": "code",
   "execution_count": null,
   "metadata": {},
   "outputs": [],
   "source": [
    "#96 The static member functions\n",
    "d. Can’t be declared const, volatile, or constant volatile."
   ]
  },
  {
   "cell_type": "code",
   "execution_count": null,
   "metadata": {},
   "outputs": [],
   "source": [
    "#97 Which among the following can’t be used to access the members in anyway?\n",
    "a. Scope resolution"
   ]
  },
  {
   "cell_type": "code",
   "execution_count": null,
   "metadata": {},
   "outputs": [],
   "source": [
    "#98 If static data member are made inline, __\n",
    "c. Those can be initialised within the class."
   ]
  },
  {
   "cell_type": "code",
   "execution_count": null,
   "metadata": {},
   "outputs": [],
   "source": [
    "#99 The static data member ____________\n",
    "b. Can’t be mutable"
   ]
  },
  {
   "cell_type": "code",
   "execution_count": null,
   "metadata": {},
   "outputs": [],
   "source": [
    "#100 We can use the static member functions and static data member\n",
    "#______________\n",
    "a. Even if a class object is not created"
   ]
  },
  {
   "cell_type": "code",
   "execution_count": null,
   "metadata": {},
   "outputs": [],
   "source": [
    "#101 Point out the wrong statement\n",
    "c. rPy provides lots of scientific routines that work on top of NumPy"
   ]
  },
  {
   "cell_type": "code",
   "execution_count": null,
   "metadata": {},
   "outputs": [],
   "source": [
    "#102 The ________ function returns its argument with the modified\n",
    "#shape, whereas the ________ method modifies the array itself.\n",
    "a. reshape, resize."
   ]
  },
  {
   "cell_type": "code",
   "execution_count": null,
   "metadata": {},
   "outputs": [],
   "source": [
    "#103To create sequences of the numbers, NumPy provides a function\n",
    "#__________ analogous to range that returns arrays instead of lists.\n",
    "a. arange"
   ]
  },
  {
   "cell_type": "code",
   "execution_count": null,
   "metadata": {},
   "outputs": [],
   "source": [
    "#104 Point out the correct statement:\n",
    "d. All of the Mentioned"
   ]
  },
  {
   "cell_type": "code",
   "execution_count": null,
   "metadata": {},
   "outputs": [],
   "source": [
    "#105 Which of the following function stack 1D array as the columns into the 2D array?\n",
    "b. column_stack."
   ]
  },
  {
   "cell_type": "code",
   "execution_count": null,
   "metadata": {},
   "outputs": [],
   "source": []
  },
  {
   "cell_type": "code",
   "execution_count": null,
   "metadata": {},
   "outputs": [],
   "source": []
  },
  {
   "cell_type": "code",
   "execution_count": null,
   "metadata": {},
   "outputs": [],
   "source": []
  },
  {
   "cell_type": "code",
   "execution_count": null,
   "metadata": {},
   "outputs": [],
   "source": []
  },
  {
   "cell_type": "code",
   "execution_count": null,
   "metadata": {},
   "outputs": [],
   "source": []
  },
  {
   "cell_type": "code",
   "execution_count": null,
   "metadata": {},
   "outputs": [],
   "source": []
  },
  {
   "cell_type": "code",
   "execution_count": null,
   "metadata": {},
   "outputs": [],
   "source": [
    "#106 ndarray is also known as an alias array\n",
    "b. False"
   ]
  },
  {
   "cell_type": "code",
   "execution_count": null,
   "metadata": {},
   "outputs": [],
   "source": [
    "#107 Which of the following method creates the new array object that looks at the same data?\n",
    "b. copy"
   ]
  },
  {
   "cell_type": "code",
   "execution_count": null,
   "metadata": {},
   "outputs": [],
   "source": [
    "#108 Which of the functions can be used to combine the different vectors to obtain the result for each n-uplet?\n",
    "b ix_."
   ]
  },
  {
   "cell_type": "code",
   "execution_count": null,
   "metadata": {},
   "outputs": [],
   "source": [
    "#109 ndarray.dataitemSize is the buffer containing actual elements of an array.\n",
    "a) True"
   ]
  },
  {
   "cell_type": "code",
   "execution_count": null,
   "metadata": {},
   "outputs": [],
   "source": [
    "#110 Which of the following is in the NumPy library?\n",
    "a. The n-dimensional array object"
   ]
  },
  {
   "cell_type": "code",
   "execution_count": null,
   "metadata": {},
   "outputs": [],
   "source": [
    "#111 Which of the following sets the size of the buffer used in ufuncs ?\n",
    "c. setbufsize(size)"
   ]
  },
  {
   "cell_type": "code",
   "execution_count": null,
   "metadata": {},
   "outputs": [],
   "source": [
    "#112 Point out the wrong statement:\n",
    "d. All of the Mentioned"
   ]
  },
  {
   "cell_type": "code",
   "execution_count": null,
   "metadata": {},
   "outputs": [],
   "source": [
    "#113  Which of the following attribute should be used while checking the type combination input and output?\n",
    "b. .type"
   ]
  },
  {
   "cell_type": "code",
   "execution_count": null,
   "metadata": {},
   "outputs": [],
   "source": [
    "#114 Which of the following returns an array of “ones” with the same shape and type as a given array?\n",
    "b. ones_like"
   ]
  },
  {
   "cell_type": "code",
   "execution_count": null,
   "metadata": {},
   "outputs": [],
   "source": [
    "#115 Point out the wrong statement:\n",
    "c. The output of the ufunc is necessarily a ndarray, if all the input arguments are\n",
    "ndarrays"
   ]
  },
  {
   "cell_type": "code",
   "execution_count": null,
   "metadata": {},
   "outputs": [],
   "source": [
    "#116 Which of the following set of a floating-point error callback function or a log object?\n",
    "b settercall."
   ]
  },
  {
   "cell_type": "code",
   "execution_count": null,
   "metadata": {},
   "outputs": [],
   "source": [
    "#117 Some ufuncs can take output arguments.\n",
    "a. True"
   ]
  },
  {
   "cell_type": "code",
   "execution_count": null,
   "metadata": {},
   "outputs": [],
   "source": [
    "#118 ________ decompose the elements of x into the mantissa and the two’s exponent\n",
    "c frexp"
   ]
  },
  {
   "cell_type": "code",
   "execution_count": null,
   "metadata": {},
   "outputs": [],
   "source": [
    "#119 Which of the following function take the only a single value as input?\n",
    "a iscomplex."
   ]
  },
  {
   "cell_type": "code",
   "execution_count": null,
   "metadata": {},
   "outputs": [],
   "source": [
    "#120 The array object returned by the _array_prepare_ is passed to ufunc for computation\n",
    "a. True"
   ]
  },
  {
   "cell_type": "code",
   "execution_count": null,
   "metadata": {},
   "outputs": [],
   "source": [
    "#121 All pandas data structures are ___mutable but not always _______-mutable.\n",
    "c. value,size"
   ]
  },
  {
   "cell_type": "code",
   "execution_count": null,
   "metadata": {},
   "outputs": [],
   "source": [
    "#122 Point out the correct statement:\n",
    "d All of the above mentioned."
   ]
  },
  {
   "cell_type": "code",
   "execution_count": null,
   "metadata": {},
   "outputs": [],
   "source": []
  },
  {
   "cell_type": "code",
   "execution_count": null,
   "metadata": {},
   "outputs": [],
   "source": []
  },
  {
   "cell_type": "code",
   "execution_count": null,
   "metadata": {},
   "outputs": [],
   "source": []
  },
  {
   "cell_type": "code",
   "execution_count": null,
   "metadata": {},
   "outputs": [],
   "source": []
  },
  {
   "cell_type": "code",
   "execution_count": null,
   "metadata": {},
   "outputs": [],
   "source": [
    "#123 Which of the following statement will import the pandas?\n",
    "a import pandas as pd"
   ]
  },
  {
   "cell_type": "code",
   "execution_count": null,
   "metadata": {},
   "outputs": [],
   "source": [
    "#124  Which of the following object did we get after reading the CSV file?\n",
    "a DataFrame."
   ]
  },
  {
   "cell_type": "code",
   "execution_count": null,
   "metadata": {},
   "outputs": [],
   "source": [
    "#125 Point out the wrong statement\n",
    "d. None of the Mentioned"
   ]
  },
  {
   "cell_type": "code",
   "execution_count": null,
   "metadata": {},
   "outputs": [],
   "source": [
    "#126 Which of the following library is similar to the pandas?\n",
    "a. numpy."
   ]
  },
  {
   "cell_type": "code",
   "execution_count": null,
   "metadata": {},
   "outputs": [],
   "source": [
    "#127 Panel is a container for the Series, and DataFrame is a container for DataFrame objects\n",
    "b False"
   ]
  },
  {
   "cell_type": "code",
   "execution_count": null,
   "metadata": {},
   "outputs": [],
   "source": [
    "#128 Which of the following is the prominent python “statistics and econometrics library”?\n",
    "c. Statsmodels."
   ]
  },
  {
   "cell_type": "code",
   "execution_count": null,
   "metadata": {},
   "outputs": [],
   "source": [
    "#129  Which of the following is the foundational exploratory visualisation package for the R language in the\n",
    "#pandas ecosystem?\n",
    "d. None of the mentioned"
   ]
  },
  {
   "cell_type": "code",
   "execution_count": null,
   "metadata": {},
   "outputs": [],
   "source": [
    "#130 Pandas consist of static and the moving window linear and panel regression\n",
    "a. True"
   ]
  },
  {
   "cell_type": "code",
   "execution_count": null,
   "metadata": {},
   "outputs": [],
   "source": [
    "#131 Quandl API for Python wraps the __ REST API to returns the pandas DataFrames with time series indexes\n",
    "a. Quandl."
   ]
  },
  {
   "cell_type": "code",
   "execution_count": null,
   "metadata": {},
   "outputs": [],
   "source": [
    "#132 Point out the correct statement:\n",
    "a. Statsmodels provides powerful statistics, econometrics, analysis and the modelling functionality which is out of pandas’ scope"
   ]
  },
  {
   "cell_type": "code",
   "execution_count": null,
   "metadata": {},
   "outputs": [],
   "source": [
    "#133 Which of the following library is used to retrieve and to acquire statistical data and metadata \n",
    "#disseminated in SDMX 2.1?\n",
    "a. pandaSDMX"
   ]
  },
  {
   "cell_type": "code",
   "execution_count": null,
   "metadata": {},
   "outputs": [],
   "source": [
    "#134 Which of the following provides the standard API for doing computations with MongoDB?\n",
    "a. Blaze."
   ]
  },
  {
   "cell_type": "code",
   "execution_count": null,
   "metadata": {},
   "outputs": [],
   "source": [
    "#135 Point out the wrong statement\n",
    "c. Spyder is a cross-platform Qt-based open-source R IDE"
   ]
  },
  {
   "cell_type": "code",
   "execution_count": null,
   "metadata": {},
   "outputs": [],
   "source": [
    "#136 Which of the following makes use of the pandas and returns data in a Series or DataFrame?\n",
    "b. freedapi."
   ]
  },
  {
   "cell_type": "code",
   "execution_count": null,
   "metadata": {},
   "outputs": [],
   "source": [
    "#137 Spyder can introspect and display Pandas DataFrames\n",
    "b False"
   ]
  },
  {
   "cell_type": "code",
   "execution_count": null,
   "metadata": {},
   "outputs": [],
   "source": [
    "#138 Which of the following is used for machine learning in the python?\n",
    "a. sci-kit-learn"
   ]
  },
  {
   "cell_type": "code",
   "execution_count": null,
   "metadata": {},
   "outputs": [],
   "source": [
    "#139 The ________ project builds on top of the pandas and matplotlib to provide easy plotting of data.\n",
    "b. Seaborn."
   ]
  },
  {
   "cell_type": "code",
   "execution_count": null,
   "metadata": {},
   "outputs": [],
   "source": [
    "#140 x-ray brings the labelled data power of pandas to the physical sciences\n",
    "a. True"
   ]
  },
  {
   "cell_type": "code",
   "execution_count": null,
   "metadata": {},
   "outputs": [],
   "source": [
    "#141 Which of the following is the base layer of all of the sparse has it indexed data structures?\n",
    "b. SparseArray."
   ]
  },
  {
   "cell_type": "code",
   "execution_count": null,
   "metadata": {},
   "outputs": [],
   "source": [
    "#142 Point out the correct statement.\n",
    "d. All of the mentioned."
   ]
  },
  {
   "cell_type": "code",
   "execution_count": null,
   "metadata": {},
   "outputs": [],
   "source": []
  },
  {
   "cell_type": "code",
   "execution_count": null,
   "metadata": {},
   "outputs": [],
   "source": [
    "#143 Which of the following is not an indexed object?\n",
    "d. None of the mentioned."
   ]
  },
  {
   "cell_type": "code",
   "execution_count": null,
   "metadata": {},
   "outputs": [],
   "source": [
    "#144 Which of the following list like data structure is used for managing the dynamic collection of SparseArrays?\n",
    "a. SparseList."
   ]
  },
  {
   "cell_type": "code",
   "execution_count": null,
   "metadata": {},
   "outputs": [],
   "source": [
    "#145 Point out the wrong statement.\n",
    "a. to_array. append can accept scalar values or any 2-D sequence"
   ]
  },
  {
   "cell_type": "code",
   "execution_count": null,
   "metadata": {},
   "outputs": [],
   "source": [
    "#146 Which of the following method used for transforming the Sparse-series index by the MultiIndex to a\n",
    "#scipy.sparse.coo_matrix?\n",
    "a. SparseSeries.to_coo()."
   ]
  },
  {
   "cell_type": "code",
   "execution_count": null,
   "metadata": {},
   "outputs": [],
   "source": [
    "#147 The integer format tracks only the locations and the sizes of blocks of data\n",
    "b False"
   ]
  },
  {
   "cell_type": "code",
   "execution_count": null,
   "metadata": {},
   "outputs": [],
   "source": [
    "#148 Which of the following is used for the testing for membership in the list of column names?\n",
    "a. In"
   ]
  },
  {
   "cell_type": "code",
   "execution_count": null,
   "metadata": {},
   "outputs": [],
   "source": [
    "#149 Which of the following indexing capabilities is used as the concise means of selecting data from a pandas object?\n",
    "b. ix"
   ]
  },
  {
   "cell_type": "code",
   "execution_count": null,
   "metadata": {},
   "outputs": [],
   "source": [
    "#150 Pandas follow the NumPy convention of raising an error when you try to convert something to a bool.\n",
    "a True"
   ]
  },
  {
   "cell_type": "code",
   "execution_count": null,
   "metadata": {},
   "outputs": [],
   "source": []
  },
  {
   "cell_type": "code",
   "execution_count": null,
   "metadata": {},
   "outputs": [],
   "source": []
  },
  {
   "cell_type": "code",
   "execution_count": null,
   "metadata": {},
   "outputs": [],
   "source": []
  }
 ],
 "metadata": {
  "kernelspec": {
   "display_name": "Python 3",
   "language": "python",
   "name": "python3"
  },
  "language_info": {
   "codemirror_mode": {
    "name": "ipython",
    "version": 3
   },
   "file_extension": ".py",
   "mimetype": "text/x-python",
   "name": "python",
   "nbconvert_exporter": "python",
   "pygments_lexer": "ipython3",
   "version": "3.7.4"
  }
 },
 "nbformat": 4,
 "nbformat_minor": 2
}
