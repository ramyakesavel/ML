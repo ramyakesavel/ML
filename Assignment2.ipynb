{
 "cells": [
  {
   "cell_type": "code",
   "execution_count": 1,
   "metadata": {},
   "outputs": [
    {
     "name": "stdout",
     "output_type": "stream",
     "text": [
      "Sum of Listed Fibonacci is: 54\n"
     ]
    }
   ],
   "source": [
    "#Task 1,1.1\n",
    "#Write a Python Program to implement your own myreduce() function which works exactly like \n",
    "#Python's built-in function reduce()\n",
    "\n",
    "##Summming All the Fibonacci Numbers using my own reduce function\n",
    "fib=[0,1,1,2,3,5,8,13,21]\n",
    "def add_fib(fibo):\n",
    "    sum=0\n",
    "    for i in fibo:\n",
    "        sum=sum+i\n",
    "    return sum\n",
    "\n",
    "def myreduce(func, fiblist):  ##custom reduce function\n",
    "    Finalresult=func(fiblist)\n",
    "    return Finalresult\n",
    "\n",
    "result = myreduce(add_fib, fib) \n",
    "print ('Sum of Listed Fibonacci is:',result)"
   ]
  },
  {
   "cell_type": "code",
   "execution_count": 2,
   "metadata": {},
   "outputs": [
    {
     "name": "stdout",
     "output_type": "stream",
     "text": [
      "Median=4.5\n",
      "List result above Median Value : [6, 8, 21, 100]\n"
     ]
    }
   ],
   "source": [
    "#Task 1,1.2\n",
    "#Write a Python program to implement your own myfilter() function which works exactly like\n",
    "#Python's built-in function filter()\n",
    "###Syntax filter(function, list). Displaying all values which are greater than Median from the list\n",
    "import statistics\n",
    "lst=[-2,3,-5,6,0,8,21,100]\n",
    "#lst\n",
    "newlst=[]\n",
    "def mediancalc(list):\n",
    "    median=statistics.median(list)\n",
    "    print(\"Median={}\".format(median))\n",
    "    for i in list:\n",
    "        if i > median:\n",
    "            #print(i)\n",
    "            newlst.append(i)\n",
    "    #print(newlst)\n",
    "    return newlst\n",
    "\n",
    "def myfilter(fun,list):   #My own Filter function\n",
    "    FilValue=fun(list)\n",
    "    return FilValue\n",
    "\n",
    "FilteredResult = myfilter(mediancalc, lst) \n",
    "print ('List result above Median Value :',FilteredResult)"
   ]
  },
  {
   "cell_type": "code",
   "execution_count": null,
   "metadata": {},
   "outputs": [],
   "source": []
  },
  {
   "cell_type": "code",
   "execution_count": 4,
   "metadata": {},
   "outputs": [
    {
     "name": "stdout",
     "output_type": "stream",
     "text": [
      "['x', 'xx', 'xxx', 'xxxx', 'y', 'yy', 'yyy', 'yyyy', 'z', 'zz', 'zzz', 'zzzz']\n"
     ]
    }
   ],
   "source": [
    "#Task 1,1.2 Implement List comprehensions to produce the following lists.\n",
    "#['x', 'xx', 'xxx', 'xxxx', 'y', 'yy', 'yyy', 'yyyy', 'z', 'zz', 'zzz', 'zzzz']\n",
    "l=['x','y','z']\n",
    "x=[]\n",
    "for i in l:\n",
    "    for j in range(1,5):\n",
    "        x.append(j*i)\n",
    "print(x)\n",
    "        "
   ]
  },
  {
   "cell_type": "code",
   "execution_count": 5,
   "metadata": {},
   "outputs": [
    {
     "name": "stdout",
     "output_type": "stream",
     "text": [
      "['x', 'y', 'z', 'xx', 'yy', 'zz', 'xxx', 'yyy', 'zzz', 'xxxx', 'yyyy', 'zzzz']\n"
     ]
    }
   ],
   "source": [
    "#Task 1,1.2 Implement List comprehensions to produce the following lists.\n",
    "# ['x', 'y', 'z', 'xx', 'yy', 'zz', 'xxx', 'yyy', 'zzz', 'xxxx', 'yyyy', 'zzzz']\n",
    "l1=['x','y','z']\n",
    "x=[]\n",
    "for i in range(1,5):\n",
    "    for j in l1:\n",
    "        x.append(j*i)\n",
    "print(x)\n"
   ]
  },
  {
   "cell_type": "code",
   "execution_count": 6,
   "metadata": {},
   "outputs": [
    {
     "name": "stdout",
     "output_type": "stream",
     "text": [
      "[[2], [3], [4], [3], [4], [5], [4], [5], [6]]\n"
     ]
    }
   ],
   "source": [
    "#Task 1,1.2 Implement List comprehensions to produce the following lists.\n",
    "#[[2], [3], [4], [3], [4], [5], [4], [5], [6]]\n",
    "l2=[[2],[3],[4]]\n",
    "for i in range(0,2):\n",
    "    for j in range(1,4):\n",
    "        #print(l2)\n",
    "        l3=l2[i][0]+j  ##Taking l2 list/matrix value as int to increment by j value\n",
    "        #print(l2)\n",
    "        l2.append([l3])\n",
    "print(l2)"
   ]
  },
  {
   "cell_type": "code",
   "execution_count": 7,
   "metadata": {},
   "outputs": [
    {
     "name": "stdout",
     "output_type": "stream",
     "text": [
      "[[2, 3, 4, 5], [3, 4, 5, 6], [4, 5, 6, 7], [5, 6, 7, 8]]\n"
     ]
    }
   ],
   "source": [
    "#Task 1,1.2 Implement List comprehensions to produce the following lists.\n",
    "#[[2, 3, 4, 5], [3, 4, 5, 6], [4, 5, 6, 7], [5, 6, 7, 8]]\n",
    "l4=[[2, 3, 4, 5]]\n",
    "for i in range(1,4):\n",
    "    l5=[]\n",
    "    for j in range(0,4):        \n",
    "        a=l4[0][j]+i\n",
    "        l5.append(a)\n",
    "    #print(l5)\n",
    "    l4.append(l5)\n",
    "        #print(a)\n",
    "print(l4)\n",
    "    "
   ]
  },
  {
   "cell_type": "code",
   "execution_count": 8,
   "metadata": {},
   "outputs": [
    {
     "name": "stdout",
     "output_type": "stream",
     "text": [
      "[(1, 1), (2, 1), (3, 1), (1, 2), (2, 2), (3, 2), (1, 3), (2, 3), (3, 3)]\n"
     ]
    }
   ],
   "source": [
    "#Task 1,1.2 Implement List comprehensions to produce the following lists.\n",
    "#[(1, 1), (2, 1), (3, 1), (1, 2), (2, 2), (3, 2), (1, 3), (2, 3), (3, 3)]\n",
    "\n",
    "lst=[]\n",
    "for i in range(1,4):\n",
    "    for j in range(1,4):\n",
    "        l=j,i\n",
    "        lst.append(l)\n",
    "print(lst)\n"
   ]
  },
  {
   "cell_type": "code",
   "execution_count": null,
   "metadata": {},
   "outputs": [],
   "source": []
  }
 ],
 "metadata": {
  "kernelspec": {
   "display_name": "Python 3",
   "language": "python",
   "name": "python3"
  },
  "language_info": {
   "codemirror_mode": {
    "name": "ipython",
    "version": 3
   },
   "file_extension": ".py",
   "mimetype": "text/x-python",
   "name": "python",
   "nbconvert_exporter": "python",
   "pygments_lexer": "ipython3",
   "version": "3.7.4"
  }
 },
 "nbformat": 4,
 "nbformat_minor": 2
}
