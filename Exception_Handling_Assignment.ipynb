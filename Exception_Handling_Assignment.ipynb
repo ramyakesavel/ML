{
 "cells": [
  {
   "cell_type": "code",
   "execution_count": 27,
   "metadata": {},
   "outputs": [
    {
     "name": "stdout",
     "output_type": "stream",
     "text": [
      "\n",
      "Divide by Zero Error!\n"
     ]
    }
   ],
   "source": [
    "#1. Write a function to compute 5/0 and use try/except to catch the exceptions.\n",
    "def divide(a,b):\n",
    "    print(a/b)\n",
    "\n",
    "try:\n",
    "    divide(5,0)\n",
    "except ZeroDivisionError:\n",
    "    print(\"\\nDivide by Zero Error!\")\n",
    "except:\n",
    "    print(\"\\nSomething Went Wrong\")"
   ]
  },
  {
   "cell_type": "code",
   "execution_count": 25,
   "metadata": {},
   "outputs": [
    {
     "name": "stdout",
     "output_type": "stream",
     "text": [
      "Americans  play Baseball\n",
      "Americans  play Cricket\n",
      "Americans  watch Baseball\n",
      "Americans  watch Cricket\n",
      "Indians play Baseball\n",
      "Indians play Cricket\n",
      "Indians watch Baseball\n",
      "Indians watch Cricket\n",
      "\n",
      "\n",
      "Generated Successfully\n"
     ]
    }
   ],
   "source": [
    "#2. Implement a Python program to generate all sentences where subject is in\n",
    "#[\"Americans\", \"Indians\"] and verb is in [\"Play\", \"watch\"] and the object is in [\"Baseball\",\"cricket\"].\n",
    "#Hint: Subject,Verb and Object should be declared in the program as shown below.\n",
    "#subjects=[\"Americans \",\"Indians\"]\n",
    "#verbs=[\"play\",\"watch\"]\n",
    "#objects=[\"Baseball\",\"Cricket\"]\n",
    "\n",
    "try:\n",
    "    subjects=[\"Americans \",\"Indians\"]\n",
    "    verbs=[\"play\",\"watch\"]\n",
    "    objects=[\"Baseball\",\"Cricket\"]\n",
    "    for i in subjects:\n",
    "        for j in verbs:\n",
    "            for k in objects:\n",
    "                print(i,j,k)\n",
    "except:\n",
    "    print('Something went wrong')\n",
    "finally:\n",
    "    print('\\n\\nGenerated Successfully')"
   ]
  },
  {
   "cell_type": "code",
   "execution_count": null,
   "metadata": {},
   "outputs": [],
   "source": []
  },
  {
   "cell_type": "code",
   "execution_count": null,
   "metadata": {},
   "outputs": [],
   "source": []
  }
 ],
 "metadata": {
  "kernelspec": {
   "display_name": "Python 3",
   "language": "python",
   "name": "python3"
  },
  "language_info": {
   "codemirror_mode": {
    "name": "ipython",
    "version": 3
   },
   "file_extension": ".py",
   "mimetype": "text/x-python",
   "name": "python",
   "nbconvert_exporter": "python",
   "pygments_lexer": "ipython3",
   "version": "3.7.4"
  }
 },
 "nbformat": 4,
 "nbformat_minor": 2
}
