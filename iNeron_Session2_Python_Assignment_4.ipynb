{
 "cells": [
  {
   "cell_type": "code",
   "execution_count": 242,
   "metadata": {},
   "outputs": [
    {
     "name": "stdout",
     "output_type": "stream",
     "text": [
      "Enter side 1 : 5\n",
      "Enter side 2 : 6\n",
      "Enter side 3 : 9\n",
      "The area of the triangle is 14.14\n"
     ]
    }
   ],
   "source": [
    "#Task 1.1 Write a Python Program(with class concepts) to find the area of the triangle using the below formula.\n",
    "#area = (s*(s-a)*(s-b)*(s-c)) ** 0.5\n",
    "#Function to take the length of the sides of triangle from user should be defined in the parent\n",
    "#class and function to calculate the area should be defined in subclass.\n",
    "\n",
    "\n",
    "class Polygon:\n",
    "    def __init__(self, no_of_sides):\n",
    "        self.n = no_of_sides\n",
    "        #self.sides = [0 for i in range(no_of_sides)]\n",
    "\n",
    "    def inputSides(self):\n",
    "        self.sides = [float(input(\"Enter side \"+str(i+1)+\" : \")) for i in range(self.n)]\n",
    "\n",
    "  # def dispSides(self):\n",
    "   #     for i in range(self.n):\n",
    "    #        print(\"Side\",i+1,\"is\",self.sides[i])\n",
    "class Triangle(Polygon):\n",
    "    def __init__(self):\n",
    "        Polygon.__init__(self,3)\n",
    "\n",
    "    def findArea(self):\n",
    "        a, b, c = self.sides\n",
    "        # calculate the semi-perimeter\n",
    "        s = (a + b + c) / 2\n",
    "        area = (s*(s-a)*(s-b)*(s-c)) ** 0.5\n",
    "        print('The area of the triangle is %0.2f' %area)\n",
    "t = Triangle()\n",
    "t.inputSides()\n",
    "#t.dispSides()\n",
    "t.findArea()\n",
    "\n"
   ]
  },
  {
   "cell_type": "code",
   "execution_count": 2,
   "metadata": {},
   "outputs": [
    {
     "name": "stdout",
     "output_type": "stream",
     "text": [
      "Longest Words Lists :  ['GnazhalSatheeshkumar', 'WeCanWeWill', 'DataScientist']\n"
     ]
    }
   ],
   "source": [
    "#Task 1.2 Write a function filter_long_words() that takes a list of words and an integer n and returns the list\n",
    "#of words that are longer than n.\n",
    "l=['Ramya','GnazhalSatheeshkumar','ineuron','WeCanWeWill','DataScientist']\n",
    "a=9\n",
    "l1=[]\n",
    "def filter_long_words(list):\n",
    "    for i in list:\n",
    "        if len(i) >a:\n",
    "            #print(i)\n",
    "            l1.append(i)\n",
    "    return(l1)\n",
    "print(\"Longest Words Lists : \",filter_long_words(l))\n"
   ]
  },
  {
   "cell_type": "code",
   "execution_count": 3,
   "metadata": {},
   "outputs": [
    {
     "name": "stdout",
     "output_type": "stream",
     "text": [
      "Length of words in the lists  [5, 20, 7, 11, 13]\n"
     ]
    }
   ],
   "source": [
    "#Task 2.1 Write a Python program using function concept that maps list of words into a list of integers\n",
    "#representing the lengths of the corresponding words.\n",
    "#Hint:  If a list [ ab,cde,erty] is passed on to the python function output should come as [2,3,4]\n",
    "#Here 2,3 and 4 are the lengths of the words in the list.\n",
    "l=['Ramya','GnazhalSatheeshkumar','ineuron','WeCanWeWill','DataScientist']\n",
    "l1=[]\n",
    "a=0\n",
    "def list_length(list):\n",
    "    for i in list:\n",
    "        a=len(i)\n",
    "        l1.append(a)\n",
    "        #print(a)\n",
    "    return l1\n",
    "print(\"Length of words in the lists \",list_length(l))"
   ]
  },
  {
   "cell_type": "code",
   "execution_count": 4,
   "metadata": {},
   "outputs": [
    {
     "name": "stdout",
     "output_type": "stream",
     "text": [
      "False\n"
     ]
    }
   ],
   "source": [
    "#Task 2, 2.2 Write a Python function which takes a character (i.e. a string of length 1) and returns True if it is\n",
    "#a vowel, False otherwise\n",
    "def check_vowel(char):\n",
    "    if char=='a' or char=='e' or char=='i' or char=='o' or char=='u' or char=='A' or char=='E' or char=='I' or char=='O' or char=='U' :\n",
    "        #print(True)\n",
    "        return True\n",
    "    else:\n",
    "        #print(false)\n",
    "        return False\n",
    "print(check_vowel('S'))"
   ]
  }
 ],
 "metadata": {
  "kernelspec": {
   "display_name": "Python 3",
   "language": "python",
   "name": "python3"
  },
  "language_info": {
   "codemirror_mode": {
    "name": "ipython",
    "version": 3
   },
   "file_extension": ".py",
   "mimetype": "text/x-python",
   "name": "python",
   "nbconvert_exporter": "python",
   "pygments_lexer": "ipython3",
   "version": "3.7.4"
  }
 },
 "nbformat": 4,
 "nbformat_minor": 2
}
